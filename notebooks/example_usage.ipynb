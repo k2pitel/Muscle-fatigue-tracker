{
 "cells": [
  {
   "cell_type": "markdown",
   "metadata": {},
   "source": [
    "# Muscle Fatigue Detection - Example Notebook\n",
    "\n",
    "This notebook demonstrates how to use the muscle fatigue detection system to classify EMG signals."
   ]
  },
  {
   "cell_type": "code",
   "execution_count": null,
   "metadata": {},
   "outputs": [],
   "source": [
    "import numpy as np\n",
    "import pandas as pd\n",
    "import sys\n",
    "import os\n",
    "\n",
    "# Add src to path\n",
    "sys.path.insert(0, os.path.join(os.getcwd(), '..', 'src'))\n",
    "\n",
    "from src.preprocessing import EMGPreprocessor\n",
    "from src.feature_extraction import EMGFeatureExtractor\n",
    "from src.models import FatigueClassifier\n",
    "from src.pipeline import FatigueDetectionPipeline, train_multiple_models\n",
    "from src.visualization import (\n",
    "    plot_emg_signal,\n",
    "    plot_confusion_matrix,\n",
    "    plot_model_comparison,\n",
    "    plot_feature_distributions\n",
    ")\n",
    "from sklearn.model_selection import train_test_split\n",
    "\n",
    "%matplotlib inline"
   ]
  },
  {
   "cell_type": "markdown",
   "metadata": {},
   "source": [
    "## 1. Generate Synthetic EMG Data\n",
    "\n",
    "For demonstration, we'll generate synthetic EMG signals simulating fatigued and non-fatigued states."
   ]
  },
  {
   "cell_type": "code",
   "execution_count": null,
   "metadata": {},
   "outputs": [],
   "source": [
    "def generate_synthetic_emg(n_samples=50, signal_length=5000, sampling_rate=1000):\n",
    "    \"\"\"Generate synthetic EMG data.\"\"\"\n",
    "    signals = []\n",
    "    labels = []\n",
    "    \n",
    "    for i in range(n_samples):\n",
    "        is_fatigued = i % 2\n",
    "        t = np.arange(signal_length) / sampling_rate\n",
    "        \n",
    "        if is_fatigued:\n",
    "            freq = np.random.uniform(15, 30)\n",
    "            amplitude = np.random.uniform(0.8, 1.5)\n",
    "            noise_level = 0.3\n",
    "        else:\n",
    "            freq = np.random.uniform(50, 100)\n",
    "            amplitude = np.random.uniform(0.3, 0.7)\n",
    "            noise_level = 0.2\n",
    "        \n",
    "        signal = amplitude * np.sin(2 * np.pi * freq * t)\n",
    "        signal += 0.3 * amplitude * np.sin(2 * np.pi * freq * 2 * t)\n",
    "        signal += np.random.normal(0, noise_level, signal_length)\n",
    "        \n",
    "        signals.append(signal)\n",
    "        labels.append(is_fatigued)\n",
    "    \n",
    "    return signals, labels\n",
    "\n",
    "signals, labels = generate_synthetic_emg(n_samples=100)\n",
    "print(f\"Generated {len(signals)} signals\")\n",
    "print(f\"Non-fatigued: {labels.count(0)}, Fatigued: {labels.count(1)}\")"
   ]
  },
  {
   "cell_type": "markdown",
   "metadata": {},
   "source": [
    "## 2. Visualize Sample Signals"
   ]
  },
  {
   "cell_type": "code",
   "execution_count": null,
   "metadata": {},
   "outputs": [],
   "source": [
    "# Plot a non-fatigued signal\n",
    "plot_emg_signal(signals[0], sampling_rate=1000, title=\"Non-Fatigued EMG Signal\")"
   ]
  },
  {
   "cell_type": "code",
   "execution_count": null,
   "metadata": {},
   "outputs": [],
   "source": [
    "# Plot a fatigued signal\n",
    "plot_emg_signal(signals[1], sampling_rate=1000, title=\"Fatigued EMG Signal\")"
   ]
  },
  {
   "cell_type": "markdown",
   "metadata": {},
   "source": [
    "## 3. Preprocess and Extract Features"
   ]
  },
  {
   "cell_type": "code",
   "execution_count": null,
   "metadata": {},
   "outputs": [],
   "source": [
    "# Create pipeline\n",
    "pipeline = FatigueDetectionPipeline(sampling_rate=1000, model_type='knn')\n",
    "\n",
    "# Prepare dataset\n",
    "features_df, labels_array = pipeline.prepare_dataset(\n",
    "    signals, labels, window_size=1000, overlap=0.5\n",
    ")\n",
    "\n",
    "print(f\"Extracted {len(features_df)} feature vectors\")\n",
    "print(f\"Features: {list(features_df.columns)}\")\n",
    "print(f\"\\nFeature statistics:\")\n",
    "print(features_df.describe())"
   ]
  },
  {
   "cell_type": "markdown",
   "metadata": {},
   "source": [
    "## 4. Visualize Feature Distributions"
   ]
  },
  {
   "cell_type": "code",
   "execution_count": null,
   "metadata": {},
   "outputs": [],
   "source": [
    "plot_feature_distributions(\n",
    "    features_df, \n",
    "    labels_array, \n",
    "    feature_names=['rms', 'median_frequency', 'mean_frequency', 'spectral_entropy']\n",
    ")"
   ]
  },
  {
   "cell_type": "markdown",
   "metadata": {},
   "source": [
    "## 5. Split Data and Train Models"
   ]
  },
  {
   "cell_type": "code",
   "execution_count": null,
   "metadata": {},
   "outputs": [],
   "source": [
    "# Split data\n",
    "X_train, X_test, y_train, y_test = train_test_split(\n",
    "    features_df, labels_array, test_size=0.2, random_state=42, stratify=labels_array\n",
    ")\n",
    "\n",
    "print(f\"Training samples: {len(X_train)}\")\n",
    "print(f\"Test samples: {len(X_test)}\")"
   ]
  },
  {
   "cell_type": "code",
   "execution_count": null,
   "metadata": {},
   "outputs": [],
   "source": [
    "# Train multiple models\n",
    "results = train_multiple_models(X_train, y_train, X_test, y_test)"
   ]
  },
  {
   "cell_type": "markdown",
   "metadata": {},
   "source": [
    "## 6. Visualize Results"
   ]
  },
  {
   "cell_type": "code",
   "execution_count": null,
   "metadata": {},
   "outputs": [],
   "source": [
    "# Compare model accuracy\n",
    "plot_model_comparison(results)"
   ]
  },
  {
   "cell_type": "code",
   "execution_count": null,
   "metadata": {},
   "outputs": [],
   "source": [
    "# Plot confusion matrix for best model\n",
    "best_model_name = max(results.items(), key=lambda x: x[1]['metrics']['accuracy'])[0]\n",
    "best_result = results[best_model_name]\n",
    "\n",
    "plot_confusion_matrix(\n",
    "    best_result['metrics']['confusion_matrix'],\n",
    "    class_names=['Non-fatigued', 'Fatigued'],\n",
    "    title=f\"{best_model_name.upper()} Confusion Matrix\"\n",
    ")"
   ]
  },
  {
   "cell_type": "markdown",
   "metadata": {},
   "source": [
    "## 7. Test Prediction on New Signal"
   ]
  },
  {
   "cell_type": "code",
   "execution_count": null,
   "metadata": {},
   "outputs": [],
   "source": [
    "# Generate a test signal\n",
    "test_signals, test_labels = generate_synthetic_emg(n_samples=1)\n",
    "test_signal = test_signals[0]\n",
    "true_label = test_labels[0]\n",
    "\n",
    "# Make prediction\n",
    "test_pipeline = FatigueDetectionPipeline(sampling_rate=1000, model_type=best_model_name)\n",
    "test_pipeline.classifier = best_result['classifier']\n",
    "\n",
    "predictions = test_pipeline.predict(test_signal, window_size=1000, overlap=0.5)\n",
    "predicted_label = int(np.round(np.mean(predictions)))\n",
    "\n",
    "print(f\"True label: {'Fatigued' if true_label == 1 else 'Non-fatigued'}\")\n",
    "print(f\"Predicted label: {'Fatigued' if predicted_label == 1 else 'Non-fatigued'}\")\n",
    "print(f\"Prediction confidence: {np.mean(predictions):.2f}\")"
   ]
  },
  {
   "cell_type": "markdown",
   "metadata": {},
   "source": [
    "## 8. Save Best Model"
   ]
  },
  {
   "cell_type": "code",
   "execution_count": null,
   "metadata": {},
   "outputs": [],
   "source": [
    "# Save model\n",
    "model_path = f'../models/notebook_model_{best_model_name}.joblib'\n",
    "best_result['classifier'].save_model(model_path)\n",
    "print(f\"Model saved to: {model_path}\")"
   ]
  },
  {
   "cell_type": "markdown",
   "metadata": {},
   "source": [
    "## Next Steps\n",
    "\n",
    "1. Replace synthetic data with real EMG dataset\n",
    "2. Tune hyperparameters for better performance\n",
    "3. Implement cross-validation\n",
    "4. Analyze feature importance\n",
    "5. Deploy model for real-time fatigue detection"
   ]
  }
 ],
 "metadata": {
  "kernelspec": {
   "display_name": "Python 3",
   "language": "python",
   "name": "python3"
  },
  "language_info": {
   "codemirror_mode": {
    "name": "ipython",
    "version": 3
   },
   "file_extension": ".py",
   "mimetype": "text/x-python",
   "name": "python",
   "nbconvert_exporter": "python",
   "pygments_lexer": "ipython3",
   "version": "3.8.0"
  }
 },
 "nbformat": 4,
 "nbformat_minor": 4
}
